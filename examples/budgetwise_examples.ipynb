{
 "cells": [
  {
   "cell_type": "code",
   "execution_count": 1,
   "metadata": {},
   "outputs": [],
   "source": [
    "import budgetwise"
   ]
  },
  {
   "cell_type": "code",
   "execution_count": 2,
   "metadata": {},
   "outputs": [
    {
     "data": {
      "application/vnd.jupyter.widget-view+json": {
       "model_id": "3d5203340ec94dd69c5559952edb73e3",
       "version_major": 2,
       "version_minor": 0
      },
      "text/plain": [
       "interactive(children=(IntSlider(value=1, description='Monthly expenses   amount', max=30, min=1, style=SliderS…"
      ]
     },
     "metadata": {},
     "output_type": "display_data"
    },
    {
     "data": {
      "application/vnd.jupyter.widget-view+json": {
       "model_id": "a4b83a6d1ce1402ca587b35c042b250d",
       "version_major": 2,
       "version_minor": 0
      },
      "text/plain": [
       "Label(value='HR: 1000')"
      ]
     },
     "metadata": {},
     "output_type": "display_data"
    },
    {
     "data": {
      "application/vnd.jupyter.widget-view+json": {
       "model_id": "d6e071ecd91542f490e39ba2e4fb9360",
       "version_major": 2,
       "version_minor": 0
      },
      "text/plain": [
       "Label(value='Server: 0')"
      ]
     },
     "metadata": {},
     "output_type": "display_data"
    },
    {
     "data": {
      "application/vnd.jupyter.widget-view+json": {
       "model_id": "63ba4e910775499f88f0a3bdaae16d5e",
       "version_major": 2,
       "version_minor": 0
      },
      "text/plain": [
       "Label(value='Operations: 0')"
      ]
     },
     "metadata": {},
     "output_type": "display_data"
    },
    {
     "data": {
      "application/vnd.jupyter.widget-view+json": {
       "model_id": "26005ecf6f3c443f8ac95f9d3f226461",
       "version_major": 2,
       "version_minor": 0
      },
      "text/plain": [
       "Label(value='Testing: 0')"
      ]
     },
     "metadata": {},
     "output_type": "display_data"
    },
    {
     "data": {
      "application/vnd.jupyter.widget-view+json": {
       "model_id": "fdaaa09cefe34c33bdea3d7deab1129e",
       "version_major": 2,
       "version_minor": 0
      },
      "text/plain": [
       "Label(value='Food: 0')"
      ]
     },
     "metadata": {},
     "output_type": "display_data"
    },
    {
     "data": {
      "application/vnd.jupyter.widget-view+json": {
       "model_id": "25c2830916c6445197bcc612a3dc37d4",
       "version_major": 2,
       "version_minor": 0
      },
      "text/plain": [
       "Label(value='AI: 0')"
      ]
     },
     "metadata": {},
     "output_type": "display_data"
    },
    {
     "name": "stdout",
     "output_type": "stream",
     "text": [
      "---------------\n"
     ]
    },
    {
     "data": {
      "application/vnd.jupyter.widget-view+json": {
       "model_id": "8f6a30771fa54fb58eb9a3f27e76852d",
       "version_major": 2,
       "version_minor": 0
      },
      "text/plain": [
       "Label(value='Total budget: 1000')"
      ]
     },
     "metadata": {},
     "output_type": "display_data"
    }
   ],
   "source": [
    "categories = [\"HR\", \"Server\", \"Operations\", \"Testing\", \"Food\", \"AI\"]\n",
    "budgetwise.calculate_budget(categories)"
   ]
  },
  {
   "cell_type": "code",
   "execution_count": null,
   "metadata": {},
   "outputs": [],
   "source": []
  }
 ],
 "metadata": {
  "kernelspec": {
   "display_name": "Python 3",
   "language": "python",
   "name": "python3"
  },
  "language_info": {
   "codemirror_mode": {
    "name": "ipython",
    "version": 3
   },
   "file_extension": ".py",
   "mimetype": "text/x-python",
   "name": "python",
   "nbconvert_exporter": "python",
   "pygments_lexer": "ipython3",
   "version": "3.6.8"
  }
 },
 "nbformat": 4,
 "nbformat_minor": 2
}
